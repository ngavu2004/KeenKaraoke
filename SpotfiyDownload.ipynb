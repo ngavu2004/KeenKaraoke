{
  "nbformat": 4,
  "nbformat_minor": 0,
  "metadata": {
    "colab": {
      "provenance": []
    },
    "kernelspec": {
      "name": "python3",
      "display_name": "Python 3"
    },
    "language_info": {
      "name": "python"
    }
  },
  "cells": [
    {
      "cell_type": "code",
      "execution_count": 1,
      "metadata": {
        "colab": {
          "base_uri": "https://localhost:8080/"
        },
        "id": "QKO9PC8_h96T",
        "outputId": "7e3f2886-2c77-470e-f149-20f7dfc0e10c"
      },
      "outputs": [
        {
          "output_type": "stream",
          "name": "stdout",
          "text": [
            "Collecting spotipy\n",
            "  Downloading spotipy-2.24.0-py3-none-any.whl.metadata (4.9 kB)\n",
            "Collecting redis>=3.5.3 (from spotipy)\n",
            "  Downloading redis-5.1.0-py3-none-any.whl.metadata (9.1 kB)\n",
            "Requirement already satisfied: requests>=2.25.0 in /usr/local/lib/python3.10/dist-packages (from spotipy) (2.32.3)\n",
            "Requirement already satisfied: urllib3>=1.26.0 in /usr/local/lib/python3.10/dist-packages (from spotipy) (2.2.3)\n",
            "Requirement already satisfied: async-timeout>=4.0.3 in /usr/local/lib/python3.10/dist-packages (from redis>=3.5.3->spotipy) (4.0.3)\n",
            "Requirement already satisfied: charset-normalizer<4,>=2 in /usr/local/lib/python3.10/dist-packages (from requests>=2.25.0->spotipy) (3.3.2)\n",
            "Requirement already satisfied: idna<4,>=2.5 in /usr/local/lib/python3.10/dist-packages (from requests>=2.25.0->spotipy) (3.10)\n",
            "Requirement already satisfied: certifi>=2017.4.17 in /usr/local/lib/python3.10/dist-packages (from requests>=2.25.0->spotipy) (2024.8.30)\n",
            "Downloading spotipy-2.24.0-py3-none-any.whl (30 kB)\n",
            "Downloading redis-5.1.0-py3-none-any.whl (261 kB)\n",
            "\u001b[2K   \u001b[90m━━━━━━━━━━━━━━━━━━━━━━━━━━━━━━━━━━━━━━━━\u001b[0m \u001b[32m261.2/261.2 kB\u001b[0m \u001b[31m11.5 MB/s\u001b[0m eta \u001b[36m0:00:00\u001b[0m\n",
            "\u001b[?25hInstalling collected packages: redis, spotipy\n",
            "Successfully installed redis-5.1.0 spotipy-2.24.0\n"
          ]
        }
      ],
      "source": [
        "!pip install spotipy"
      ]
    },
    {
      "cell_type": "code",
      "source": [
        "import spotipy\n",
        "from spotipy.oauth2 import SpotifyClientCredentials\n",
        "import requests\n",
        "def get_spotify_preview(song_name):\n",
        "    sp = spotipy.Spotify(auth_manager=SpotifyClientCredentials(client_id='52fa5150f66e4837875f44da7d66a987',\n",
        "                                                                client_secret='8e5fe0183bcf458b8459a9d425ea8df7'))\n",
        "\n",
        "    result = sp.search(q=song_name, type='track', limit=1)\n",
        "    track = result['tracks']['items'][0]\n",
        "    preview_url = track['preview_url']\n",
        "\n",
        "    if preview_url:\n",
        "        print(f\"Preview URL: {preview_url}\")\n",
        "        response = requests.get(preview_url)\n",
        "        if response.status_code == 200:\n",
        "            with open(f\"{song_name}.mp3\", \"wb\") as file:\n",
        "                file.write(response.content)\n",
        "            print(f\"Downloaded preview for '{song_name}' as {song_name}.mp3\")\n",
        "        else:\n",
        "            print(f\"Failed to download audio: {response.status_code}\")\n",
        "    else:\n",
        "        print(\"No preview available for this song\")\n",
        "\n",
        "get_spotify_preview(\"I want it that way\")"
      ],
      "metadata": {
        "colab": {
          "base_uri": "https://localhost:8080/"
        },
        "id": "kyBSLVqBiDzQ",
        "outputId": "23245032-6530-466f-b4d8-281c6bb831df"
      },
      "execution_count": 4,
      "outputs": [
        {
          "output_type": "stream",
          "name": "stdout",
          "text": [
            "Preview URL: https://p.scdn.co/mp3-preview/4eec31d974fd622ac7858affd9759f2017dd87e4?cid=52fa5150f66e4837875f44da7d66a987\n",
            "Downloaded preview for 'I want it that way' as I want it that way.mp3\n"
          ]
        }
      ]
    }
  ]
}